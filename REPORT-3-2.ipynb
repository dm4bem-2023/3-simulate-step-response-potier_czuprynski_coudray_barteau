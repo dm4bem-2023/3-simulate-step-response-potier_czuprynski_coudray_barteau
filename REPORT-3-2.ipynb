{
 "cells": [
  {
   "cell_type": "code",
   "execution_count": 3,
   "metadata": {
    "tags": []
   },
   "outputs": [
    {
     "ename": "ModuleNotFoundError",
     "evalue": "No module named 'dm4bem'",
     "output_type": "error",
     "traceback": [
      "\u001b[0;31m---------------------------------------------------------------------------\u001b[0m",
      "\u001b[0;31mModuleNotFoundError\u001b[0m                       Traceback (most recent call last)",
      "\u001b[0;32m<ipython-input-3-a8aa68c38959>\u001b[0m in \u001b[0;36m<module>\u001b[0;34m\u001b[0m\n\u001b[1;32m      2\u001b[0m \u001b[0;32mimport\u001b[0m \u001b[0mpandas\u001b[0m \u001b[0;32mas\u001b[0m \u001b[0mpd\u001b[0m\u001b[0;34m\u001b[0m\u001b[0;34m\u001b[0m\u001b[0m\n\u001b[1;32m      3\u001b[0m \u001b[0;32mimport\u001b[0m \u001b[0mmatplotlib\u001b[0m\u001b[0;34m.\u001b[0m\u001b[0mpyplot\u001b[0m \u001b[0;32mas\u001b[0m \u001b[0mplt\u001b[0m\u001b[0;34m\u001b[0m\u001b[0;34m\u001b[0m\u001b[0m\n\u001b[0;32m----> 4\u001b[0;31m \u001b[0;32mimport\u001b[0m \u001b[0mdm4bem\u001b[0m\u001b[0;34m\u001b[0m\u001b[0;34m\u001b[0m\u001b[0m\n\u001b[0m",
      "\u001b[0;31mModuleNotFoundError\u001b[0m: No module named 'dm4bem'"
     ]
    }
   ],
   "source": [
    "import numpy as np\n",
    "import pandas as pd\n",
    "import matplotlib.pyplot as plt\n",
    "import dm4bem"
   ]
  },
  {
   "cell_type": "markdown",
   "metadata": {},
   "source": [
    "### Introduction\n",
    "\n",
    "In this first part we will define our working environment. The plan of our house can be found below. The objective of this study case is the nalysis of a cubic building with 5 identical walls & a transparent wall (glass window), air infiltration, and HVAC system controlling the indoor air temperature.\n",
    "\n",
    "### Design model\n",
    "\n",
    "The room that we will study is presented in the figure below. Two rooms are separated by a small wall without insulation. The total area of the model is about 9 meters square and the ceiling is 3 meters high. The rooms have each 3 exterior walls and one interior wall. We will consider the house as insulated from the outside .\n",
    "The interior walls are made of concrete. The room also has a 1 m² window, a 2 m² door and a HVAC device.\n",
    "\n",
    "\n",
    "\n",
    "<center><img src=\"https://hub.gke2.mybinder.org/user/cghiaus-dm4bem-19y1e1gf/files/Sch%C3%A9ma%20maison.png?_xsrf=2%7C3ce45c22%7Cea41507d6477cef712308b01cb5ff2db%7C1682345682\"></center>\n",
    "\n",
    "> Figure 1. Plan of the building\n",
    "\n"
   ]
  },
  {
   "cell_type": "markdown",
   "metadata": {},
   "source": [
    "We will now define boundary conditions wich are important to solve our case.\n",
    "\n",
    "\n",
    "### Hypothesis\n",
    "\n",
    "Boundary Conditions:\n",
    "\n",
    "- Temperature of the exterior air = 0 °C\n",
    "- Setpoint temperature of the interior air = 18 °C\n",
    "- Unique temperature on each wall\n",
    "- Unidirectionnal heat transfer"
   ]
  },
  {
   "cell_type": "markdown",
   "metadata": {},
   "source": [
    "### Dimension of windows, doors, and walls."
   ]
  },
  {
   "cell_type": "code",
   "execution_count": 3,
   "metadata": {
    "tags": []
   },
   "outputs": [],
   "source": [
    "l = 3               # m length of the cubic room\n",
    "Sg = l**2           # m² surface of the glass wall\n",
    "Sc = Si = 5 * Sg    # m² surface of concrete & insulation of the 5 walls\n",
    "Sc1=2*Sg\n",
    "Sc2=3*Sg"
   ]
  },
  {
   "cell_type": "markdown",
   "metadata": {},
   "source": [
    "Thermo-physical properties\n",
    "The thermophysical properties of the air (in SI units) are:"
   ]
  },
  {
   "cell_type": "code",
   "execution_count": 2,
   "metadata": {
    "tags": []
   },
   "outputs": [
    {
     "ename": "NameError",
     "evalue": "name 'pd' is not defined",
     "output_type": "error",
     "traceback": [
      "\u001b[0;31m---------------------------------------------------------------------------\u001b[0m",
      "\u001b[0;31mNameError\u001b[0m                                 Traceback (most recent call last)",
      "\u001b[0;32m<ipython-input-2-3824c4ef5232>\u001b[0m in \u001b[0;36m<module>\u001b[0;34m\u001b[0m\n\u001b[1;32m      3\u001b[0m         'Specific heat out' : 25}               # J/(kg·K)\n\u001b[1;32m      4\u001b[0m \u001b[0;31m# pd.DataFrame.from_dict(air, orient='index', columns=['air'])\u001b[0m\u001b[0;34m\u001b[0m\u001b[0;34m\u001b[0m\u001b[0;34m\u001b[0m\u001b[0m\n\u001b[0;32m----> 5\u001b[0;31m \u001b[0mpd\u001b[0m\u001b[0;34m.\u001b[0m\u001b[0mDataFrame\u001b[0m\u001b[0;34m(\u001b[0m\u001b[0mair\u001b[0m\u001b[0;34m,\u001b[0m \u001b[0mindex\u001b[0m\u001b[0;34m=\u001b[0m\u001b[0;34m[\u001b[0m\u001b[0;34m'Air'\u001b[0m\u001b[0;34m]\u001b[0m\u001b[0;34m)\u001b[0m\u001b[0;34m\u001b[0m\u001b[0;34m\u001b[0m\u001b[0m\n\u001b[0m",
      "\u001b[0;31mNameError\u001b[0m: name 'pd' is not defined"
     ]
    }
   ],
   "source": [
    "air = {'Density': 1.2,                      # kg/m³\n",
    "       'Specific heat in': 1000,\n",
    "        'Specific heat out' : 25}               # J/(kg·K)\n",
    "# pd.DataFrame.from_dict(air, orient='index', columns=['air'])\n",
    "pd.DataFrame(air, index=['Air'])"
   ]
  },
  {
   "cell_type": "markdown",
   "metadata": {
    "tags": []
   },
   "source": [
    "We use concrete, glass and insulation (glass wool) as materials. We take our door with oak wood. "
   ]
  },
  {
   "cell_type": "code",
   "execution_count": 1,
   "metadata": {
    "tags": []
   },
   "outputs": [
    {
     "ename": "NameError",
     "evalue": "name 'pd' is not defined",
     "output_type": "error",
     "traceback": [
      "\u001b[0;31m---------------------------------------------------------------------------\u001b[0m",
      "\u001b[0;31mNameError\u001b[0m                                 Traceback (most recent call last)",
      "\u001b[0;32m<ipython-input-1-19a95e3d49cb>\u001b[0m in \u001b[0;36m<module>\u001b[0;34m\u001b[0m\n\u001b[1;32m     23\u001b[0m          'Surface': 4}\n\u001b[1;32m     24\u001b[0m \u001b[0;34m\u001b[0m\u001b[0m\n\u001b[0;32m---> 25\u001b[0;31m wall = pd.DataFrame.from_dict({'Layer_out': ISOLANT,\n\u001b[0m\u001b[1;32m     26\u001b[0m                                \u001b[0;34m'Layer_in'\u001b[0m\u001b[0;34m:\u001b[0m \u001b[0mBETON\u001b[0m\u001b[0;34m,\u001b[0m\u001b[0;34m\u001b[0m\u001b[0;34m\u001b[0m\u001b[0m\n\u001b[1;32m     27\u001b[0m                                \u001b[0;34m'Glass'\u001b[0m\u001b[0;34m:\u001b[0m \u001b[0mVERRE\u001b[0m\u001b[0;34m,\u001b[0m\u001b[0;34m\u001b[0m\u001b[0;34m\u001b[0m\u001b[0m\n",
      "\u001b[0;31mNameError\u001b[0m: name 'pd' is not defined"
     ]
    }
   ],
   "source": [
    "BETON = {'Conductivity': 1.400,\n",
    "            'Density': 2400.0,\n",
    "            'Specific heat': 880,\n",
    "            'Width': 0.2,\n",
    "            'Surface': 60}\n",
    "\n",
    "ISOLANT = {'Conductivity': 0.046,\n",
    "              'Density': 25.0,\n",
    "              'Specific heat': 1030,\n",
    "              'Width': 0.08,\n",
    "              'Surface':45}\n",
    "\n",
    "VERRE = {'Conductivity': 1.4,\n",
    "         'Density': 2500,\n",
    "         'Specific heat': 1210,\n",
    "         'Width': 0.04,\n",
    "         'Surface': 40}\n",
    "\n",
    "PORTE = {'Conductivity': 0.15,\n",
    "         'Density': 800,\n",
    "         'Specific heat': 2000,\n",
    "         'Width': 0.1,\n",
    "         'Surface': 4}\n",
    "\n",
    "wall = pd.DataFrame.from_dict({'Layer_out (insulation)': ISOLANT,\n",
    "                               'Layer_in (concrete)': BETON,\n",
    "                               'Glass': VERRE,\n",
    "                               'Door': PORTE},\n",
    "                              orient='index')\n"
   ]
  },
  {
   "cell_type": "markdown",
   "metadata": {},
   "source": [
    "### Thermal circuit\n",
    "\n",
    "We will now able to draw our thermal circuit. The objective with this one will be to computerize our model. The figure will be found below.\n",
    "\n",
    "<center><img src=\"https://hub.gke2.mybinder.org/user/cghiaus-dm4bem-19y1e1gf/files/Sch%C3%A9ma%20%C3%A9lec.png?_xsrf=2%7C3ce45c22%7Cea41507d6477cef712308b01cb5ff2db%7C1682345682\"></center>\n",
    "\n",
    ">Figure 2. Thermal circuit\n"
   ]
  },
  {
   "cell_type": "markdown",
   "metadata": {},
   "source": [
    "### Convection coefficients\n",
    "\n",
    "Conventional values for the [convection coeficients](https://energieplus-lesite.be/theories/enveloppe9/echanges-chaleur-parois/resistance-thermique-d-echange-superficiel/) for indoor and outdoor convection in W/(m²⋅K) are:"
   ]
  },
  {
   "cell_type": "code",
   "execution_count": null,
   "metadata": {},
   "outputs": [],
   "source": [
    "h = pd.DataFrame([{'in': 8., 'out': 25}], index=['h'])  # W/(m²⋅K)\n",
    "# h = pd.DataFrame([{'in': 8., 'out': 25}])  # W/(m²⋅K)\n"
   ]
  },
  {
   "cell_type": "markdown",
   "metadata": {},
   "source": [
    "### Thermal coductances\n",
    "#### Conduction\n",
    "The conductances 1, 2, 3, and 4 of the thermal circuit from Figure 3 model the heat transfer by [conduction](https://en.m.wikipedia.org/wiki/Thermal_conduction). Conduction conductances, in W/K, are of the form:\n",
    "$$G_{cd} = \\frac{\\lambda}{w}S$$\n",
    "where:\n",
    "\n",
    "- $\\lambda$ - [thermal conductvity](https://en.m.wikipedia.org/wiki/Thermal_conductivity), W/(m⋅K);\n",
    "- $w$ - width of the material, m;\n",
    "- $S$ - surface area of the wall, m²."
   ]
  },
  {
   "cell_type": "code",
   "execution_count": 5,
   "metadata": {},
   "outputs": [
    {
     "ename": "NameError",
     "evalue": "name 'wall' is not defined",
     "output_type": "error",
     "traceback": [
      "\u001b[0;31m---------------------------------------------------------------------------\u001b[0m",
      "\u001b[0;31mNameError\u001b[0m                                 Traceback (most recent call last)",
      "\u001b[0;32m<ipython-input-5-f2f141f778ec>\u001b[0m in \u001b[0;36m<module>\u001b[0;34m\u001b[0m\n\u001b[1;32m      1\u001b[0m \u001b[0;31m# conduction\u001b[0m\u001b[0;34m\u001b[0m\u001b[0;34m\u001b[0m\u001b[0;34m\u001b[0m\u001b[0m\n\u001b[0;32m----> 2\u001b[0;31m \u001b[0mG_cd\u001b[0m \u001b[0;34m=\u001b[0m \u001b[0mwall\u001b[0m\u001b[0;34m[\u001b[0m\u001b[0;34m'Conductivity'\u001b[0m\u001b[0;34m]\u001b[0m \u001b[0;34m/\u001b[0m \u001b[0mwall\u001b[0m\u001b[0;34m[\u001b[0m\u001b[0;34m'Width'\u001b[0m\u001b[0;34m]\u001b[0m \u001b[0;34m*\u001b[0m \u001b[0mwall\u001b[0m\u001b[0;34m[\u001b[0m\u001b[0;34m'Surface'\u001b[0m\u001b[0;34m]\u001b[0m\u001b[0;34m\u001b[0m\u001b[0;34m\u001b[0m\u001b[0m\n\u001b[0m\u001b[1;32m      3\u001b[0m \u001b[0mpd\u001b[0m\u001b[0;34m.\u001b[0m\u001b[0mDataFrame\u001b[0m\u001b[0;34m(\u001b[0m\u001b[0mG_cd\u001b[0m\u001b[0;34m,\u001b[0m \u001b[0mcolumns\u001b[0m\u001b[0;34m=\u001b[0m\u001b[0;34m{\u001b[0m\u001b[0;34m'Conductance'\u001b[0m\u001b[0;34m}\u001b[0m\u001b[0;34m)\u001b[0m\u001b[0;34m\u001b[0m\u001b[0;34m\u001b[0m\u001b[0m\n",
      "\u001b[0;31mNameError\u001b[0m: name 'wall' is not defined"
     ]
    }
   ],
   "source": [
    "# conduction\n",
    "G_cd = wall['Conductivity'] / wall['Width'] * wall['Surface']\n",
    "pd.DataFrame(G_cd, columns={'Conductance'})"
   ]
  },
  {
   "cell_type": "markdown",
   "metadata": {},
   "source": [
    "#### Convection\n",
    "The conductances 0, 6 and 7 model the heat transfer by [convection]. Convection conductances, in W/K, are of the form:\n",
    "$$G_{cv} = {h S}$$\n",
    "where:\n",
    "- $h$ is the [convection coefficient], W/(m²⋅K);\n",
    "- $S$ - surface area of the wall, m². "
   ]
  },
  {
   "cell_type": "code",
   "execution_count": null,
   "metadata": {},
   "outputs": [],
   "source": [
    "# convection\n",
    "Gw = h * wall['Surface'][0]     # wall\n",
    "Gg = h * wall['Surface'][2]     # glass"
   ]
  },
  {
   "cell_type": "markdown",
   "metadata": {},
   "source": [
    "### Partie codage \n",
    "\n",
    "Création du code "
   ]
  },
  {
   "cell_type": "markdown",
   "metadata": {},
   "source": [
    "$$\\left\\{\\begin{array}{ll}\n",
    "C \\dot{\\theta} = -(A^T G A) \\theta + A^T G b + f\\\\ \n",
    "q = G (-A \\theta + b)\n",
    "\\end{array}\\right.$$"
   ]
  },
  {
   "cell_type": "code",
   "execution_count": 5,
   "metadata": {
    "tags": []
   },
   "outputs": [
    {
     "ename": "NameError",
     "evalue": "name 'air' is not defined",
     "output_type": "error",
     "traceback": [
      "\u001b[0;31m---------------------------------------------------------------------------\u001b[0m",
      "\u001b[0;31mNameError\u001b[0m                                 Traceback (most recent call last)",
      "\u001b[0;32m<ipython-input-5-5aef2fbd4a40>\u001b[0m in \u001b[0;36m<module>\u001b[0;34m\u001b[0m\n\u001b[1;32m     72\u001b[0m \u001b[0;34m\u001b[0m\u001b[0m\n\u001b[1;32m     73\u001b[0m \u001b[0mG\u001b[0m\u001b[0;34m=\u001b[0m\u001b[0mnp\u001b[0m\u001b[0;34m.\u001b[0m\u001b[0mzeros\u001b[0m\u001b[0;34m(\u001b[0m\u001b[0;34m(\u001b[0m\u001b[0;36m24\u001b[0m\u001b[0;34m,\u001b[0m\u001b[0;36m24\u001b[0m\u001b[0;34m)\u001b[0m\u001b[0;34m)\u001b[0m\u001b[0;34m\u001b[0m\u001b[0;34m\u001b[0m\u001b[0m\n\u001b[0;32m---> 74\u001b[0;31m \u001b[0mG\u001b[0m\u001b[0;34m[\u001b[0m\u001b[0;36m0\u001b[0m\u001b[0;34m,\u001b[0m\u001b[0;36m0\u001b[0m\u001b[0;34m]\u001b[0m\u001b[0;34m=\u001b[0m\u001b[0mair\u001b[0m\u001b[0;34m[\u001b[0m\u001b[0;34m'Specific heat in'\u001b[0m\u001b[0;34m]\u001b[0m\u001b[0;34m*\u001b[0m\u001b[0mSc1\u001b[0m\u001b[0;34m\u001b[0m\u001b[0;34m\u001b[0m\u001b[0m\n\u001b[0m\u001b[1;32m     75\u001b[0m \u001b[0mG\u001b[0m\u001b[0;34m[\u001b[0m\u001b[0;36m1\u001b[0m\u001b[0;34m,\u001b[0m\u001b[0;36m1\u001b[0m\u001b[0;34m]\u001b[0m\u001b[0;34m=\u001b[0m\u001b[0mBETON\u001b[0m\u001b[0;34m[\u001b[0m\u001b[0;34m'Width'\u001b[0m\u001b[0;34m]\u001b[0m\u001b[0;34m/\u001b[0m\u001b[0;34m(\u001b[0m\u001b[0mBETON\u001b[0m\u001b[0;34m[\u001b[0m\u001b[0;34m'Conductivity'\u001b[0m\u001b[0;34m]\u001b[0m\u001b[0;34m)\u001b[0m\u001b[0;34m*\u001b[0m\u001b[0mSc1\u001b[0m\u001b[0;34m\u001b[0m\u001b[0;34m\u001b[0m\u001b[0m\n\u001b[1;32m     76\u001b[0m \u001b[0mG\u001b[0m\u001b[0;34m[\u001b[0m\u001b[0;36m2\u001b[0m\u001b[0;34m,\u001b[0m\u001b[0;36m2\u001b[0m\u001b[0;34m]\u001b[0m\u001b[0;34m=\u001b[0m\u001b[0mBETON\u001b[0m\u001b[0;34m[\u001b[0m\u001b[0;34m'Width'\u001b[0m\u001b[0;34m]\u001b[0m\u001b[0;34m/\u001b[0m\u001b[0;34m(\u001b[0m\u001b[0mBETON\u001b[0m\u001b[0;34m[\u001b[0m\u001b[0;34m'Conductivity'\u001b[0m\u001b[0;34m]\u001b[0m\u001b[0;34m)\u001b[0m\u001b[0;34m*\u001b[0m\u001b[0mSc1\u001b[0m\u001b[0;34m\u001b[0m\u001b[0;34m\u001b[0m\u001b[0m\n",
      "\u001b[0;31mNameError\u001b[0m: name 'air' is not defined"
     ]
    }
   ],
   "source": [
    "#Initial Values#\n",
    "\n",
    "Text = 0                        #°C\n",
    "Tvent = 18                      #°C\n",
    "Tint1 = 20                      #°C\n",
    "Tint2 = 20                      #°C\n",
    "lambda_concrete = 1.4\n",
    "lambda_insulation = 0.046\n",
    "lambda_glass = 1.4\n",
    "lambda_wood = 0.15\n",
    "hi = 8\n",
    "ho = 25\n",
    "\n",
    "\n",
    "Swall = 9\n",
    "Swindow = 1\n",
    "Sdoor = 2\n",
    "Sint = Swall*8 - Swindow - Sdoor\n",
    "\n",
    "import numpy as np\n",
    "A= np.zeros((24,17))\n",
    "A[0, 0] = 1\n",
    "A[1, 1] = 1\n",
    "A[1, 0] = -1\n",
    "A[2, 2] = 1\n",
    "A[2, 1] = -1\n",
    "A[3, 3] = 1\n",
    "A[3, 2] = -1\n",
    "A[4, 4] = 1\n",
    "A[4, 3] = -1\n",
    "A[6, 6] = 1\n",
    "A[6, 4] = -1\n",
    "A[5, 5] = 1\n",
    "A[5, 4] = -1\n",
    "A[8, 7] = 1\n",
    "A[9, 5] = 1\n",
    "A[9, 7] = -1\n",
    "A[7, 6] = 1\n",
    "A[7, 5] = -1\n",
    "A[10, 6] = 1\n",
    "A[11, 6] = 1\n",
    "A[12, 6] = 1\n",
    "A[12, 8] = -1\n",
    "A[13, 8] = 1\n",
    "A[13, 9] = -1\n",
    "A[14, 16] = 1\n",
    "A[14, 10] = -1\n",
    "A[15, 10] = 1\n",
    "A[15, 11] = -1\n",
    "A[16, 11] = 1\n",
    "A[16, 12] = -1\n",
    "A[17, 12] = 1\n",
    "A[17, 13] = -1\n",
    "A[18, 13] = 1\n",
    "A[19, 15] = 1\n",
    "A[19, 14] = -1\n",
    "A[20, 14] = 1\n",
    "A[21, 9] = 1\n",
    "A[23, 9] = 1\n",
    "A[23, 16] = -1\n",
    "A[22, 9] = 1\n",
    "A[22, 15] = -1\n",
    "\n",
    "B=np.zeros(24)\n",
    "B[0]=1\n",
    "B[8]=1\n",
    "B[10]=1\n",
    "B[11]=1\n",
    "B[18]=1\n",
    "B[20]=1\n",
    "B[21]=1\n",
    "\n",
    "G=np.zeros((24,24))\n",
    "G[0,0]=air['Specific heat in']*Sc1\n",
    "G[1,1]=BETON['Width']/(BETON['Conductivity'])*Sc1\n",
    "G[2,2]=BETON['Width']/(BETON['Conductivity'])*Sc1\n",
    "G[3,3]=ISOLANT['Width']/(ISOLANT['Conductivity'])*Sc1\n",
    "G[4,4]=ISOLANT['Width']/(ISOLANT['Conductivity'])*Sc1\n",
    "G[5,5]=air['Specific heat out']*Sc1\n",
    "G[6,6]=air['Specific heat out']*Sc1\n",
    "G[7,7]=air['Specific heat out']*Sg\n",
    "G[8,8]=air['Specific heat in']*Sg\n",
    "G[9,9]=VERRE['Width']/(VERRE['Conductivity'])*Sg\n",
    "G[10,10]=air['Specific heat in']*Sc1\n",
    "G[11,11]=air['Specific heat out']*Sg\n",
    "G[12,12]=BETON['Width']/(BETON['Conductivity'])*Sg\n",
    "G[13,13]=BETON['Width']/(BETON['Conductivity'])*Sg\n",
    "G[14,14]=ISOLANT['Width']/(ISOLANT['Conductivity'])*Sc2\n",
    "G[15,15]=ISOLANT['Width']/(ISOLANT['Conductivity'])*Sc2\n",
    "G[16,16]=BETON['Width']/(BETON['Conductivity'])*Sc2\n",
    "G[17,17]=BETON['Width']/(BETON['Conductivity'])*Sc2\n",
    "G[18,18]=air['Specific heat out']*Sc2\n",
    "G[19,19]=PORTE['Width']/(PORTE['Conductivity'])*PORTE['Surface']\n",
    "G[20,20]=air['Specific heat in']*Sc2\n",
    "G[21,21]=air['Specific heat out']*Sc2\n",
    "G[22,22]=air['Specific heat out']*Sc2\n",
    "G[23,23]=air['Specific heat out']*Sc2\n",
    "\n",
    "C=np.zeros((17,17))\n",
    "C[1,1]=BETON['Density']*BETON['Width']*BETON['Specific heat']*Sc1\n",
    "C[1,1]=ISOLANT['Density']*ISOLANT['Width']*ISOLANT['Specific heat']*Sc1\n",
    "C[1,1]=BETON['Density']*BETON['Width']*BETON['Specific heat']*Sg\n",
    "C[1,1]=BETON['Density']*BETON['Width']*BETON['Specific heat']*Sc2\n",
    "C[1,1]=ISOLANT['Density']*ISOLANT['Width']*ISOLANT['Specific heat']*Sc2\n",
    "\n",
    "# Vector of temperature sources\n",
    "# =============================\n",
    "\n",
    "\n",
    "f = np.zeros(17)\n",
    "f[0] = 1\n",
    "f[4] = 1\n",
    "f[6] = 1\n",
    "f[7] = 1\n",
    "f[9] = 1\n",
    "f[13] = 1\n",
    "\n",
    "\n",
    "b = np.zeros(24)\n",
    "b[0] = 1\n",
    "b[8] = 1\n",
    "b[10] = 1\n",
    "b[11] = 1\n",
    "b[18] = 1\n",
    "b[20] = 1\n",
    "b[21] = 1\n",
    "\n",
    "y = np.zeros(16)         # nodes\n",
    "y[[9]] = 1              # nodes (temperatures) of interest\n",
    "\n",
    "\n",
    "[As, Bs, Cs, Ds] = dm4bem.tc2ss(A, G, b, C, f, y)\n",
    "print('As = \\n', As, '\\n')\n",
    "print('Bs = \\n', Bs, '\\n')\n",
    "print('Cs = \\n', Cs, '\\n')\n",
    "print('Ds = \\n', Ds, '\\n')\n",
    "\n",
    "u = np.hstack([b, f])\n",
    "print(f'u = {u}')\n",
    "\n",
    "yss = (-Cs @ np.linalg.inv(As) @ Bs + Ds) @ u\n",
    "print(f'yss = {yss} °C')\n",
    "\n",
    "λ = np.linalg.eig(As)[0]    # eigenvalues of matrix As\n",
    "\n",
    "print('Time constants: \\n', -1 / λ, 's \\n')\n",
    "print('2 x Time constants: \\n', -2 / λ, 's \\n')\n",
    "dtmax = 2 * min(-1. / λ)\n",
    "print(f'Maximum time step: {dtmax:.2f} s = {dtmax / 60:.2f} min')\n",
    "\n",
    "# time step\n",
    "dt = np.floor(dtmax / 60) * 60   # s\n",
    "print(f'dt = {dt} s = {dt / 60:.0f} min')\n",
    "\n",
    "\n",
    "# settling time\n",
    "time_const = np.array([int(x) for x in sorted(-1 / λ)])\n",
    "print('4 * Time constants: \\n', 4 * time_const, 's \\n')\n",
    "\n",
    "t_settle = 4 * max(-1 / λ)\n",
    "print(f'Settling time: \\\n",
    "{t_settle:.0f} s = \\\n",
    "{t_settle / 60:.1f} min = \\\n",
    "{t_settle / (3600):.2f} h = \\\n",
    "{t_settle / (3600 * 24):.2f} days')\n",
    "\n",
    "# Step response\n",
    "# -------------\n",
    "# Find the next multiple of 3600 s that is larger than t_settle\n",
    "duration = np.ceil(t_settle / 3600) * 3600\n",
    "n = int(np.floor(duration / dt))    # number of time steps\n",
    "t = np.arange(0, n * dt, dt)        # time vector for n time steps\n",
    "\n",
    "print(f'Duration = {duration} s')\n",
    "print(f'Number of time steps = {n}')\n",
    "# pd.DataFrame(t, columns=['time'])\n",
    "\n",
    "u = np.zeros([17, n])                # u = [To To To Tisp Φo Φi Qa Φa]\n",
    "u[0:3, :] = 10 * np.ones([3, n])    # To = 10 for n time steps\n",
    "u[3, :] = 20 * np.ones([1, n])      # Tisp = 20 for n time steps\n",
    "\n",
    "# pd.DataFrame(u)\n",
    "\n",
    "n_s = As.shape[0]                      # number of state variables\n",
    "θ_exp = np.zeros([n_s, t.shape[0]])    # explicit Euler in time t\n",
    "θ_imp = np.zeros([n_s, t.shape[0]])    # implicit Euler in time t\n",
    "\n",
    "I = np.eye(n_s)                        # identity matrix\n",
    "\n",
    "for k in range(n - 1):\n",
    "    θ_exp[:, k + 1] = (I + dt * As) @\\\n",
    "        θ_exp[:, k] + dt * Bs @ u[:, k]\n",
    "    θ_imp[:, k + 1] = np.linalg.inv(I - dt * As) @\\\n",
    "        (θ_imp[:, k] + dt * Bs @ u[:, k])\n",
    "    \n",
    "    \n",
    "y_exp = Cs @ θ_exp + Ds @  u\n",
    "y_imp = Cs @ θ_imp + Ds @  u\n",
    "\n",
    "fig, ax = plt.subplots()\n",
    "ax.plot(t / 3600, y_exp.T, t / 3600, y_imp.T)\n",
    "ax.set(xlabel='Time, $t$ / h',\n",
    "       ylabel='Temperatue, $θ_i$ / °C',\n",
    "       title='Step input: outdoor temperature $T_o$')\n",
    "ax.legend(['Explicit', 'Implicit'])\n",
    "ax.grid()\n",
    "plt.show()\n",
    "\n"
   ]
  }
 ],
 "metadata": {
  "kernelspec": {
   "display_name": "Python 3",
   "language": "python",
   "name": "python3"
  },
  "language_info": {
   "codemirror_mode": {
    "name": "ipython",
    "version": 3
   },
   "file_extension": ".py",
   "mimetype": "text/x-python",
   "name": "python",
   "nbconvert_exporter": "python",
   "pygments_lexer": "ipython3",
   "version": "3.7.3"
  }
 },
 "nbformat": 4,
 "nbformat_minor": 5
}
