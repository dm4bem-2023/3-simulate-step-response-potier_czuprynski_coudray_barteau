{
 "cells": [
  {
   "cell_type": "code",
   "execution_count": 1,
   "metadata": {
    "tags": []
   },
   "outputs": [],
   "source": [
    "import numpy as np\n",
    "import pandas as pd\n",
    "import matplotlib.pyplot as plt\n",
    "import dm4bem"
   ]
  },
  {
   "cell_type": "markdown",
   "metadata": {},
   "source": [
    "### Introduction\n",
    "\n",
    "In this first part we will define our working environment. The plan of our house can be found below. The objective of this study case is the nalysis of a cubic building with 5 identical walls & a transparent wall (glass window), air infiltration, and HVAC system controlling the indoor air temperature.\n",
    "\n",
    "### Design model\n",
    "\n",
    "The room that we will study is presented in the figure below. Two rooms are separated by a small wall without insulation. The total area of the model is about 9 meters square and the ceiling is 3 meters high. The rooms have each 3 exterior walls and one interior wall. We will consider the house as insulated from the outside .\n",
    "The interior walls are made of concrete. The room also has a 1 m² window, a 2 m² door and a HVAC device.\n",
    "\n",
    "\n",
    "\n",
    "<center><img src=\"https://hub.gke2.mybinder.org/user/cghiaus-dm4bem-19y1e1gf/files/Sch%C3%A9ma%20maison.png?_xsrf=2%7C3ce45c22%7Cea41507d6477cef712308b01cb5ff2db%7C1682345682\"></center>\n",
    "\n",
    "> Figure 1. Plan of the building\n",
    "\n"
   ]
  },
  {
   "cell_type": "markdown",
   "metadata": {},
   "source": [
    "We will now define boundary conditions wich are important to solve our case.\n",
    "\n",
    "\n",
    "### Hypothesis\n",
    "\n",
    "Boundary Conditions:\n",
    "\n",
    "- Temperature of the exterior air = 10 °C\n",
    "- Setpoint temperature of the interior air = 20°C\n",
    "- Unique temperature on each wall\n",
    "- Unidirectionnal heat transfer"
   ]
  },
  {
   "cell_type": "markdown",
   "metadata": {},
   "source": [
    "### Dimension of windows, doors, and walls."
   ]
  },
  {
   "cell_type": "code",
   "execution_count": 2,
   "metadata": {
    "tags": []
   },
   "outputs": [],
   "source": [
    "l = 3               # m length of the cubic room\n",
    "Sg = l**2           # m² surface of the glass wall\n",
    "Sc = Si = 5 * Sg    # m² surface of concrete & insulation of the 5 walls\n",
    "Sc1=2*Sg\n",
    "Sc2=3*Sg"
   ]
  },
  {
   "cell_type": "markdown",
   "metadata": {},
   "source": [
    "Thermo-physical properties\n",
    "The thermophysical properties of the air (in SI units) are:"
   ]
  },
  {
   "cell_type": "code",
   "execution_count": 3,
   "metadata": {
    "tags": []
   },
   "outputs": [
    {
     "data": {
      "text/html": [
       "<div>\n",
       "<style scoped>\n",
       "    .dataframe tbody tr th:only-of-type {\n",
       "        vertical-align: middle;\n",
       "    }\n",
       "\n",
       "    .dataframe tbody tr th {\n",
       "        vertical-align: top;\n",
       "    }\n",
       "\n",
       "    .dataframe thead th {\n",
       "        text-align: right;\n",
       "    }\n",
       "</style>\n",
       "<table border=\"1\" class=\"dataframe\">\n",
       "  <thead>\n",
       "    <tr style=\"text-align: right;\">\n",
       "      <th></th>\n",
       "      <th>Density</th>\n",
       "      <th>Specific heat in</th>\n",
       "      <th>Specific heat out</th>\n",
       "    </tr>\n",
       "  </thead>\n",
       "  <tbody>\n",
       "    <tr>\n",
       "      <th>Air</th>\n",
       "      <td>1.2</td>\n",
       "      <td>1000</td>\n",
       "      <td>25</td>\n",
       "    </tr>\n",
       "  </tbody>\n",
       "</table>\n",
       "</div>"
      ],
      "text/plain": [
       "     Density  Specific heat in  Specific heat out\n",
       "Air      1.2              1000                 25"
      ]
     },
     "execution_count": 3,
     "metadata": {},
     "output_type": "execute_result"
    }
   ],
   "source": [
    "air = {'Density': 1.2,                      # kg/m³\n",
    "       'Specific heat in': 1000,\n",
    "        'Specific heat out' : 25}               # J/(kg·K)\n",
    "# pd.DataFrame.from_dict(air, orient='index', columns=['air'])\n",
    "pd.DataFrame(air, index=['Air'])"
   ]
  },
  {
   "cell_type": "markdown",
   "metadata": {
    "tags": []
   },
   "source": [
    "We use concrete, glass and insulation (glass wool) as materials. We take our door with oak wood. "
   ]
  },
  {
   "cell_type": "code",
   "execution_count": 4,
   "metadata": {
    "tags": []
   },
   "outputs": [],
   "source": [
    "BETON = {'Conductivity': 1.400,\n",
    "            'Density': 2400.0,\n",
    "            'Specific heat': 880,\n",
    "            'Width': 0.2,\n",
    "            'Surface': 60}\n",
    "\n",
    "ISOLANT = {'Conductivity': 0.046,\n",
    "              'Density': 25.0,\n",
    "              'Specific heat': 1030,\n",
    "              'Width': 0.08,\n",
    "              'Surface':45}\n",
    "\n",
    "VERRE = {'Conductivity': 1.4,\n",
    "         'Density': 2500,\n",
    "         'Specific heat': 1210,\n",
    "         'Width': 0.04,\n",
    "         'Surface': 40}\n",
    "\n",
    "PORTE = {'Conductivity': 0.15,\n",
    "         'Density': 800,\n",
    "         'Specific heat': 2000,\n",
    "         'Width': 0.1,\n",
    "         'Surface': 4}\n",
    "\n",
    "wall = pd.DataFrame.from_dict({'Layer_out (insulation)': ISOLANT,\n",
    "                               'Layer_in (concrete)': BETON,\n",
    "                               'Glass': VERRE,\n",
    "                               'Door': PORTE},\n",
    "                              orient='index')\n"
   ]
  },
  {
   "cell_type": "markdown",
   "metadata": {},
   "source": [
    "### Thermal circuit\n",
    "\n",
    "We will now able to draw our thermal circuit. The objective with this one will be to computerize our model. The figure will be found below.\n",
    "\n",
    "<center><img src=\"https://hub.gke2.mybinder.org/user/cghiaus-dm4bem-19y1e1gf/files/Sch%C3%A9ma%20%C3%A9lec.png?_xsrf=2%7C3ce45c22%7Cea41507d6477cef712308b01cb5ff2db%7C1682345682\"></center>\n",
    "\n",
    ">Figure 2. Thermal circuit\n"
   ]
  },
  {
   "cell_type": "markdown",
   "metadata": {},
   "source": [
    "### Convection coefficients\n",
    "\n",
    "Conventional values for the [convection coeficients](https://energieplus-lesite.be/theories/enveloppe9/echanges-chaleur-parois/resistance-thermique-d-echange-superficiel/) for indoor and outdoor convection in W/(m²⋅K) are:"
   ]
  },
  {
   "cell_type": "code",
   "execution_count": 5,
   "metadata": {},
   "outputs": [],
   "source": [
    "h = pd.DataFrame([{'in': 8., 'out': 25}], index=['h'])  # W/(m²⋅K)\n",
    "# h = pd.DataFrame([{'in': 8., 'out': 25}])  # W/(m²⋅K)\n"
   ]
  },
  {
   "cell_type": "markdown",
   "metadata": {},
   "source": [
    "### Thermal coductances\n",
    "#### Conduction\n",
    "The conductances 1, 2, 3, and 4 of the thermal circuit from Figure 3 model the heat transfer by [conduction](https://en.m.wikipedia.org/wiki/Thermal_conduction). Conduction conductances, in W/K, are of the form:\n",
    "$$G_{cd} = \\frac{\\lambda}{w}S$$\n",
    "where:\n",
    "\n",
    "- $\\lambda$ - [thermal conductvity](https://en.m.wikipedia.org/wiki/Thermal_conductivity), W/(m⋅K);\n",
    "- $w$ - width of the material, m;\n",
    "- $S$ - surface area of the wall, m²."
   ]
  },
  {
   "cell_type": "code",
   "execution_count": 6,
   "metadata": {},
   "outputs": [
    {
     "data": {
      "text/html": [
       "<div>\n",
       "<style scoped>\n",
       "    .dataframe tbody tr th:only-of-type {\n",
       "        vertical-align: middle;\n",
       "    }\n",
       "\n",
       "    .dataframe tbody tr th {\n",
       "        vertical-align: top;\n",
       "    }\n",
       "\n",
       "    .dataframe thead th {\n",
       "        text-align: right;\n",
       "    }\n",
       "</style>\n",
       "<table border=\"1\" class=\"dataframe\">\n",
       "  <thead>\n",
       "    <tr style=\"text-align: right;\">\n",
       "      <th></th>\n",
       "      <th>Conductance</th>\n",
       "    </tr>\n",
       "  </thead>\n",
       "  <tbody>\n",
       "    <tr>\n",
       "      <th>Door</th>\n",
       "      <td>6.000</td>\n",
       "    </tr>\n",
       "    <tr>\n",
       "      <th>Glass</th>\n",
       "      <td>1400.000</td>\n",
       "    </tr>\n",
       "    <tr>\n",
       "      <th>Layer_in (concrete)</th>\n",
       "      <td>420.000</td>\n",
       "    </tr>\n",
       "    <tr>\n",
       "      <th>Layer_out (insulation)</th>\n",
       "      <td>25.875</td>\n",
       "    </tr>\n",
       "  </tbody>\n",
       "</table>\n",
       "</div>"
      ],
      "text/plain": [
       "                        Conductance\n",
       "Door                          6.000\n",
       "Glass                      1400.000\n",
       "Layer_in (concrete)         420.000\n",
       "Layer_out (insulation)       25.875"
      ]
     },
     "execution_count": 6,
     "metadata": {},
     "output_type": "execute_result"
    }
   ],
   "source": [
    "# conduction\n",
    "G_cd = wall['Conductivity'] / wall['Width'] * wall['Surface']\n",
    "pd.DataFrame(G_cd, columns={'Conductance'})"
   ]
  },
  {
   "cell_type": "markdown",
   "metadata": {},
   "source": [
    "#### Convection\n",
    "The conductances 0, 6 and 7 model the heat transfer by [convection]. Convection conductances, in W/K, are of the form:\n",
    "$$G_{cv} = {h S}$$\n",
    "where:\n",
    "- $h$ is the [convection coefficient], W/(m²⋅K);\n",
    "- $S$ - surface area of the wall, m². "
   ]
  },
  {
   "cell_type": "code",
   "execution_count": 7,
   "metadata": {},
   "outputs": [],
   "source": [
    "# convection\n",
    "Gw = h * wall['Surface'][0]     # wall\n",
    "Gg = h * wall['Surface'][2]     # glass"
   ]
  },
  {
   "cell_type": "markdown",
   "metadata": {},
   "source": [
    "### Partie codage \n",
    "\n",
    "Création du code "
   ]
  },
  {
   "cell_type": "markdown",
   "metadata": {},
   "source": [
    "$$\\left\\{\\begin{array}{ll}\n",
    "C \\dot{\\theta} = -(A^T G A) \\theta + A^T G b + f\\\\ \n",
    "q = G (-A \\theta + b)\n",
    "\\end{array}\\right.$$"
   ]
  },
  {
   "cell_type": "code",
   "execution_count": 21,
   "metadata": {
    "tags": []
   },
   "outputs": [
    {
     "name": "stdout",
     "output_type": "stream",
     "text": [
      "θ = [10.00513608 14.61323793 19.22133977 19.59986243 19.97838508 19.98156329\n",
      " 19.99931665 10.00924048 19.9679881  19.93665955 19.54023079 19.16958601\n",
      " 14.6573887  10.14519139 10.00097744 19.89756193 19.91087557] °C\n",
      "As = \n",
      " [[-6.50686408e-07  3.12531253e-07  0.00000000e+00  0.00000000e+00\n",
      "   0.00000000e+00  0.00000000e+00]\n",
      " [ 6.40840783e-05 -8.66466682e-04  8.02153489e-04  0.00000000e+00\n",
      "   0.00000000e+00  0.00000000e+00]\n",
      " [ 0.00000000e+00  7.82403498e-06 -4.80226170e-03  3.38203463e-07\n",
      "   0.00000000e+00  0.00000000e+00]\n",
      " [ 0.00000000e+00  0.00000000e+00  1.12734488e-07 -2.25268456e-07\n",
      "   6.84700783e-09  0.00000000e+00]\n",
      " [ 0.00000000e+00  0.00000000e+00  0.00000000e+00  6.84700783e-09\n",
      "  -3.92820130e-06  3.12531253e-07]\n",
      " [ 0.00000000e+00  0.00000000e+00  0.00000000e+00  0.00000000e+00\n",
      "   6.40840783e-05 -1.33038182e-04]] \n",
      "\n",
      "Bs = \n",
      " [[3.38155155e-07 0.00000000e+00 0.00000000e+00 0.00000000e+00\n",
      "  0.00000000e+00 0.00000000e+00 0.00000000e+00 1.87863975e-11\n",
      "  0.00000000e+00 0.00000000e+00 0.00000000e+00 0.00000000e+00\n",
      "  0.00000000e+00]\n",
      " [0.00000000e+00 2.29114704e-07 0.00000000e+00 0.00000000e+00\n",
      "  0.00000000e+00 0.00000000e+00 0.00000000e+00 0.00000000e+00\n",
      "  1.33704977e-06 0.00000000e+00 2.54571893e-11 0.00000000e+00\n",
      "  0.00000000e+00]\n",
      " [0.00000000e+00 6.53660345e-08 4.73484848e-03 5.91856061e-05\n",
      "  0.00000000e+00 0.00000000e+00 0.00000000e+00 0.00000000e+00\n",
      "  2.49934451e-07 2.63047138e-07 7.26289272e-12 0.00000000e+00\n",
      "  0.00000000e+00]\n",
      " [0.00000000e+00 0.00000000e+00 0.00000000e+00 0.00000000e+00\n",
      "  0.00000000e+00 4.14215012e-10 1.05272745e-07 0.00000000e+00\n",
      "  0.00000000e+00 0.00000000e+00 0.00000000e+00 1.55959623e-10\n",
      "  0.00000000e+00]\n",
      " [0.00000000e+00 0.00000000e+00 0.00000000e+00 0.00000000e+00\n",
      "  0.00000000e+00 1.41439272e-08 3.59467911e-06 0.00000000e+00\n",
      "  0.00000000e+00 0.00000000e+00 0.00000000e+00 5.32545053e-09\n",
      "  0.00000000e+00]\n",
      " [0.00000000e+00 0.00000000e+00 0.00000000e+00 0.00000000e+00\n",
      "  6.89541041e-05 0.00000000e+00 0.00000000e+00 0.00000000e+00\n",
      "  0.00000000e+00 0.00000000e+00 0.00000000e+00 0.00000000e+00\n",
      "  1.02154228e-07]] \n",
      "\n",
      "Cs = \n",
      " [[0.         0.         1.         0.         0.         0.        ]\n",
      " [0.         0.         0.         0.00177869 0.0607357  0.        ]] \n",
      "\n",
      "Ds = \n",
      " [[0.         0.         0.         0.         0.         0.\n",
      "  0.         0.         0.         0.         0.         0.\n",
      "  0.        ]\n",
      " [0.         0.         0.         0.         0.         0.00367425\n",
      "  0.93381136 0.         0.         0.         0.         0.00138342\n",
      "  0.        ]] \n",
      "\n"
     ]
    },
    {
     "data": {
      "text/plain": [
       "[<matplotlib.lines.Line2D at 0x7f8958b2f978>]"
      ]
     },
     "execution_count": 21,
     "metadata": {},
     "output_type": "execute_result"
    },
    {
     "data": {
      "image/png": "[encoded data removed]",
      "text/plain": [
       "<Figure size 432x288 with 1 Axes>"
      ]
     },
     "metadata": {
      "needs_background": "light"
     },
     "output_type": "display_data"
    }
   ],
   "source": [
    "#Initial Values#\n",
    "\n",
    "Text = 10                        #°C\n",
    "Tvent = 20                      #°C\n",
    "Tint1 = 20                      #°C\n",
    "Tint2 = 20                      #°C\n",
    "lambda_concrete = 1.4\n",
    "lambda_insulation = 0.046\n",
    "lambda_glass = 1.4\n",
    "lambda_wood = 0.15\n",
    "hi = 8\n",
    "ho = 25\n",
    "\n",
    "\n",
    "Swall = 9\n",
    "Swindow = 1\n",
    "Sdoor = 2\n",
    "Sint = Swall*8 - Swindow - Sdoor\n",
    "\n",
    "import numpy as np\n",
    "A= np.zeros((24,17))\n",
    "A[0, 0] = 1\n",
    "A[1, 1] = 1\n",
    "A[1, 0] = -1\n",
    "A[2, 2] = 1\n",
    "A[2, 1] = -1\n",
    "A[3, 3] = 1\n",
    "A[3, 2] = -1\n",
    "A[4, 4] = 1\n",
    "A[4, 3] = -1\n",
    "A[6, 6] = 1\n",
    "A[6, 4] = -1\n",
    "A[5, 5] = 1\n",
    "A[5, 4] = -1\n",
    "A[8, 7] = 1\n",
    "A[9, 5] = 1\n",
    "A[9, 7] = -1\n",
    "A[7, 6] = 1\n",
    "A[7, 5] = -1\n",
    "A[10, 6] = 1\n",
    "A[11, 6] = 1\n",
    "A[12, 6] = 1\n",
    "A[12, 8] = -1\n",
    "A[13, 8] = 1\n",
    "A[13, 9] = -1\n",
    "A[14, 16] = 1\n",
    "A[14, 10] = -1\n",
    "A[15, 10] = 1\n",
    "A[15, 11] = -1\n",
    "A[16, 11] = 1\n",
    "A[16, 12] = -1\n",
    "A[17, 12] = 1\n",
    "A[17, 13] = -1\n",
    "A[18, 13] = 1\n",
    "A[19, 15] = 1\n",
    "A[19, 14] = -1\n",
    "A[20, 14] = 1\n",
    "A[21, 9] = 1\n",
    "A[23, 9] = 1\n",
    "A[23, 16] = -1\n",
    "A[22, 9] = 1\n",
    "A[22, 15] = -1\n",
    "\n",
    "B=np.zeros(24)\n",
    "B[0]=1\n",
    "B[8]=1\n",
    "B[10]=1\n",
    "B[11]=1\n",
    "B[18]=1\n",
    "B[20]=1\n",
    "B[21]=1\n",
    "\n",
    "G=np.zeros((24,24))\n",
    "G[0,0]=air['Specific heat in']*Sc1\n",
    "G[1,1]=BETON['Width']/(BETON['Conductivity'])*Sc1\n",
    "G[2,2]=BETON['Width']/(BETON['Conductivity'])*Sc1\n",
    "G[3,3]=ISOLANT['Width']/(ISOLANT['Conductivity'])*Sc1\n",
    "G[4,4]=ISOLANT['Width']/(ISOLANT['Conductivity'])*Sc1\n",
    "G[5,5]=air['Specific heat out']*Sc1\n",
    "G[6,6]=air['Specific heat out']*Sc1\n",
    "G[7,7]=air['Specific heat out']*Sg\n",
    "G[8,8]=air['Specific heat in']*Sg\n",
    "G[9,9]=VERRE['Width']/(VERRE['Conductivity'])*Sg\n",
    "G[10,10]=air['Specific heat in']*Sc1\n",
    "G[11,11]=air['Specific heat out']*Sg\n",
    "G[12,12]=BETON['Width']/(BETON['Conductivity'])*Sg\n",
    "G[13,13]=BETON['Width']/(BETON['Conductivity'])*Sg\n",
    "G[14,14]=ISOLANT['Width']/(ISOLANT['Conductivity'])*Sc2\n",
    "G[15,15]=ISOLANT['Width']/(ISOLANT['Conductivity'])*Sc2\n",
    "G[16,16]=BETON['Width']/(BETON['Conductivity'])*Sc2\n",
    "G[17,17]=BETON['Width']/(BETON['Conductivity'])*Sc2\n",
    "G[18,18]=air['Specific heat out']*Sc2\n",
    "G[19,19]=PORTE['Width']/(PORTE['Conductivity'])*PORTE['Surface']\n",
    "G[20,20]=air['Specific heat in']*Sc2\n",
    "G[21,21]=air['Specific heat out']*Sc2\n",
    "G[22,22]=air['Specific heat out']*Sc2\n",
    "G[23,23]=air['Specific heat out']*Sc2\n",
    "\n",
    "C=np.zeros((17,17))\n",
    "C[1,1]=BETON['Density']*BETON['Width']*BETON['Specific heat']*Sc1\n",
    "C[3,3]=ISOLANT['Density']*ISOLANT['Width']*ISOLANT['Specific heat']*Sc1\n",
    "C[6,6]=BETON['Density']*BETON['Width']*BETON['Specific heat']*Sg\n",
    "C[10,10]=BETON['Density']*BETON['Width']*BETON['Specific heat']*Sc2\n",
    "C[12,12]=ISOLANT['Density']*ISOLANT['Width']*ISOLANT['Specific heat']*Sc2\n",
    "C[8,8]=BETON['Density']*BETON['Width']*BETON['Specific heat']*Sc2\n",
    "\n",
    "\n",
    "# Vector of temperature sources\n",
    "# =============================\n",
    "\n",
    "\n",
    "f = np.zeros(17)\n",
    "f[0] = 80.6\n",
    "f[4] = 1\n",
    "f[6] = 1\n",
    "f[7] = 80.6\n",
    "f[9] = 1\n",
    "f[13] = 80.6\n",
    "\n",
    "\n",
    "b = np.zeros(24) #nous choissisons 10°c à l'extérieur de la maison et 20°c pour la ventillation\n",
    "b[0] = 10\n",
    "b[8] = 10 \n",
    "b[10] = 20\n",
    "b[11] = 20\n",
    "b[18] = 10\n",
    "b[20] = 10\n",
    "b[21] = 20\n",
    "\n",
    "y = np.zeros(17)         # nodes\n",
    "y[[6,9]] = 1              # nodes (temperatures) of interest\n",
    "\n",
    "θ = np.linalg.inv(A.T @ G @ A) @ (A.T @ G @ b + f)\n",
    "print(f'θ = {θ} °C')\n",
    "\n",
    "[As, Bs, Cs, Ds] = dm4bem.tc2ss(A, G, b, C, f, y)\n",
    "print('As = \\n', As, '\\n')\n",
    "print('Bs = \\n', Bs, '\\n')\n",
    "print('Cs = \\n', Cs, '\\n')\n",
    "print('Ds = \\n', Ds, '\\n')\n",
    "\n",
    "plt.plot(θ)"
   ]
  },
  {
   "cell_type": "code",
   "execution_count": 23,
   "metadata": {
    "tags": []
   },
   "outputs": [
    {
     "name": "stdout",
     "output_type": "stream",
     "text": [
      "u = [10.  10.  20.  20.  10.  10.  20.  80.6  0.   0.  80.6  0.  80.6]\n",
      "yss = [19.999207   19.93518902] °C\n",
      "Max error between DAE and state-space: 6.25e-02 °C\n"
     ]
    }
   ],
   "source": [
    "#Nous choisissons une température extérieure de 10°C et intérieure de 20°C, On choisira un flux solaire moyen de 80.6 w/m2\n",
    "\n",
    "u = np.array([10,10,20,20,10,10,20,80.6,0,0,80.6,0,80.6]) \n",
    "print(f'u = {u}')\n",
    "\n",
    "yss = (-Cs @ np.linalg.inv(As) @ Bs + Ds) @ u\n",
    "print(f'yss = {yss} °C')\n",
    "\n",
    "print(f'Max error between DAE and state-space: \\\n",
    "{max(abs(θ[9] - yss)):.2e} °C')\n",
    "\n"
   ]
  },
  {
   "cell_type": "markdown",
   "metadata": {},
   "source": [
    "l'erreur entre les deux méthodes de l'ordre de l'erreur numérique, notre système numérique suit alors bien le modèle mathématique déterminé auparavant.\n"
   ]
  },
  {
   "cell_type": "markdown",
   "metadata": {},
   "source": [
    "### Simulate step response"
   ]
  },
  {
   "cell_type": "code",
   "execution_count": 32,
   "metadata": {
    "scrolled": true,
    "tags": []
   },
   "outputs": [
    {
     "name": "stdout",
     "output_type": "stream",
     "text": [
      "Time constants: \n",
      " [2.08166121e+02 1.15620854e+03 1.59357522e+06 4.43956476e+06\n",
      " 2.65021784e+05 7.50789518e+03] s \n",
      "\n",
      "2 x Time constants: \n",
      " [4.16332241e+02 2.31241708e+03 3.18715043e+06 8.87912953e+06\n",
      " 5.30043568e+05 1.50157904e+04] s \n",
      "\n",
      "Maximum time step: 416.33 s = 6.94 min\n",
      "dt = 360.0 s = 6 min\n",
      "4 * Time constants: \n",
      " [     832     4624    30028  1060084  6374300 17758256] s \n",
      "\n",
      "Settling time: 17758259 s = 295971.0 min = 4932.85 h = 205.54 days\n",
      "Duration = 17758800.0 s\n",
      "Number of time steps = 49330\n"
     ]
    },
    {
     "data": {
      "image/png": "[encoded data removed]",
      "text/plain": [
       "<Figure size 432x288 with 1 Axes>"
      ]
     },
     "metadata": {
      "needs_background": "light"
     },
     "output_type": "display_data"
    },
    {
     "name": "stdout",
     "output_type": "stream",
     "text": [
      "Steady-state indoor temperature obtained with:\n"
     ]
    },
    {
     "ename": "IndexError",
     "evalue": "too many indices for array",
     "output_type": "error",
     "traceback": [
      "\u001b[0;31m---------------------------------------------------------------------------\u001b[0m",
      "\u001b[0;31mIndexError\u001b[0m                                Traceback (most recent call last)",
      "\u001b[0;32m<ipython-input-32-9d54e303ef1a>\u001b[0m in \u001b[0;36m<module>\u001b[0;34m\u001b[0m\n\u001b[1;32m     69\u001b[0m \u001b[0;34m\u001b[0m\u001b[0m\n\u001b[1;32m     70\u001b[0m \u001b[0mprint\u001b[0m\u001b[0;34m(\u001b[0m\u001b[0;34m'Steady-state indoor temperature obtained with:'\u001b[0m\u001b[0;34m)\u001b[0m\u001b[0;34m\u001b[0m\u001b[0;34m\u001b[0m\u001b[0m\n\u001b[0;32m---> 71\u001b[0;31m \u001b[0mprint\u001b[0m\u001b[0;34m(\u001b[0m\u001b[0;34mf'- DAE model: {float(θ[6,9]):.4f} °C'\u001b[0m\u001b[0;34m)\u001b[0m\u001b[0;34m\u001b[0m\u001b[0;34m\u001b[0m\u001b[0m\n\u001b[0m\u001b[1;32m     72\u001b[0m \u001b[0mprint\u001b[0m\u001b[0;34m(\u001b[0m\u001b[0;34mf'- state-space model: {float(yss):.4f} °C'\u001b[0m\u001b[0;34m)\u001b[0m\u001b[0;34m\u001b[0m\u001b[0;34m\u001b[0m\u001b[0m\n\u001b[1;32m     73\u001b[0m \u001b[0mprint\u001b[0m\u001b[0;34m(\u001b[0m\u001b[0;34mf'- steady-state response to step input: {float(y_exp[:, -2]):.4f} °C'\u001b[0m\u001b[0;34m)\u001b[0m\u001b[0;34m\u001b[0m\u001b[0;34m\u001b[0m\u001b[0m\n",
      "\u001b[0;31mIndexError\u001b[0m: too many indices for array"
     ]
    }
   ],
   "source": [
    "λ = np.linalg.eig(As)[0]    # eigenvalues of matrix As\n",
    "\n",
    "print('Time constants: \\n', -1 / λ, 's \\n')\n",
    "print('2 x Time constants: \\n', -2 / λ, 's \\n')\n",
    "dtmax = 2 * min(-1. / λ)\n",
    "print(f'Maximum time step: {dtmax:.2f} s = {dtmax / 60:.2f} min')\n",
    "\n",
    "# time step\n",
    "dt = np.floor(dtmax / 60) * 60   # s\n",
    "print(f'dt = {dt} s = {dt / 60:.0f} min')\n",
    "\n",
    "\n",
    "# settling time\n",
    "time_const = np.array([int(x) for x in sorted(-1 / λ)])\n",
    "print('4 * Time constants: \\n', 4 * time_const, 's \\n')\n",
    "\n",
    "t_settle = 4 * max(-1 / λ)\n",
    "print(f'Settling time: \\\n",
    "{t_settle:.0f} s = \\\n",
    "{t_settle / 60:.1f} min = \\\n",
    "{t_settle / (3600):.2f} h = \\\n",
    "{t_settle / (3600 * 24):.2f} days')\n",
    "\n",
    "# Step response\n",
    "# -------------\n",
    "# Find the next multiple of 3600 s that is larger than t_settle\n",
    "duration = np.ceil(t_settle / 3600) * 3600\n",
    "n = int(np.floor(duration / dt))    # number of time steps\n",
    "t = np.arange(0, n * dt, dt)        # time vector for n time steps\n",
    "\n",
    "print(f'Duration = {duration} s')\n",
    "print(f'Number of time steps = {n}')\n",
    "# pd.DataFrame(t, columns=['time'])\n",
    "\n",
    "\n",
    "u = np.zeros([13, n])                # u = [To To To Tisp Φo Φi Qa Φa]\n",
    "u[0:2, :] = 10 * np.ones([2, n])    # To = 10 for n time steps\n",
    "u[4:6, :] = 10 * np.ones([2, n])    # To = 10 for n time steps\n",
    "\n",
    "u[2:4, :] = 20 * np.ones([2, n])      # Tisp = 20 for n time steps\n",
    "u[7, :] = 20 * np.ones([1, n])      # Tisp = 20 for n time steps\n",
    "\n",
    "# pd.DataFrame(u)\n",
    "\n",
    "n_s = As.shape[0]                      # number of state variables\n",
    "θ_exp = np.zeros([n_s, t.shape[0]])    # explicit Euler in time t\n",
    "θ_imp = np.zeros([n_s, t.shape[0]])    # implicit Euler in time t\n",
    "\n",
    "I = np.eye(n_s)                        # identity matrix\n",
    "\n",
    "for k in range(n - 1):\n",
    "    θ_exp[:, k + 1] = (I + dt * As) @\\\n",
    "        θ_exp[:, k] + dt * Bs @ u[:, k]\n",
    "    θ_imp[:, k + 1] = np.linalg.inv(I - dt * As) @\\\n",
    "        (θ_imp[:, k] + dt * Bs @ u[:, k])\n",
    "    \n",
    "    \n",
    "y_exp = Cs @ θ_exp + Ds @  u\n",
    "y_imp = Cs @ θ_imp + Ds @  u\n",
    "\n",
    "fig, ax = plt.subplots()\n",
    "ax.plot(t / 3600, y_exp.T, t / 3600, y_imp.T)\n",
    "ax.set(xlabel='Time, $t$ / h',\n",
    "       ylabel='Temperatue, $θ_i$ / °C',\n",
    "       title='Step input: outdoor temperature $T_o$')\n",
    "ax.legend(['Explicit', 'Implicit'])\n",
    "ax.grid()\n",
    "plt.show()\n",
    "\n",
    "print('Steady-state indoor temperature obtained with:')\n",
    "print(f'- DAE model: {float(θ[6,9]):.4f} °C')\n",
    "print(f'- state-space model: {float(yss):.4f} °C')\n",
    "print(f'- steady-state response to step input: {float(y_exp[:, -2]):.4f} °C')"
   ]
  },
  {
   "cell_type": "code",
   "execution_count": 14,
   "metadata": {},
   "outputs": [
    {
     "name": "stdout",
     "output_type": "stream",
     "text": [
      "2000-01-03 12:00:00 \tstart date\n",
      "2000-02-05 18:00:00 \tend date\n"
     ]
    },
    {
     "ename": "NameError",
     "evalue": "name 'α_wSW' is not defined",
     "output_type": "error",
     "traceback": [
      "\u001b[0;31m---------------------------------------------------------------------------\u001b[0m",
      "\u001b[0;31mNameError\u001b[0m                                 Traceback (most recent call last)",
      "\u001b[0;32m<ipython-input-14-1192f53a64a3>\u001b[0m in \u001b[0;36m<module>\u001b[0;34m\u001b[0m\n\u001b[1;32m     39\u001b[0m \u001b[0mTo\u001b[0m \u001b[0;34m=\u001b[0m \u001b[0mdata\u001b[0m\u001b[0;34m[\u001b[0m\u001b[0;34m'To'\u001b[0m\u001b[0;34m]\u001b[0m\u001b[0;34m\u001b[0m\u001b[0;34m\u001b[0m\u001b[0m\n\u001b[1;32m     40\u001b[0m \u001b[0mTi\u001b[0m \u001b[0;34m=\u001b[0m \u001b[0mdata\u001b[0m\u001b[0;34m[\u001b[0m\u001b[0;34m'Ti'\u001b[0m\u001b[0;34m]\u001b[0m\u001b[0;34m\u001b[0m\u001b[0;34m\u001b[0m\u001b[0m\n\u001b[0;32m---> 41\u001b[0;31m \u001b[0mΦo\u001b[0m \u001b[0;34m=\u001b[0m \u001b[0mα_wSW\u001b[0m \u001b[0;34m*\u001b[0m \u001b[0mwall\u001b[0m\u001b[0;34m[\u001b[0m\u001b[0;34m'Surface'\u001b[0m\u001b[0;34m]\u001b[0m\u001b[0;34m[\u001b[0m\u001b[0;34m'Layer_out'\u001b[0m\u001b[0;34m]\u001b[0m \u001b[0;34m*\u001b[0m \u001b[0mdata\u001b[0m\u001b[0;34m[\u001b[0m\u001b[0;34m'Φtot'\u001b[0m\u001b[0;34m]\u001b[0m\u001b[0;34m\u001b[0m\u001b[0;34m\u001b[0m\u001b[0m\n\u001b[0m\u001b[1;32m     42\u001b[0m \u001b[0mΦi\u001b[0m \u001b[0;34m=\u001b[0m \u001b[0mτ_gSW\u001b[0m \u001b[0;34m*\u001b[0m \u001b[0mα_wSW\u001b[0m \u001b[0;34m*\u001b[0m \u001b[0mwall\u001b[0m\u001b[0;34m[\u001b[0m\u001b[0;34m'Surface'\u001b[0m\u001b[0;34m]\u001b[0m\u001b[0;34m[\u001b[0m\u001b[0;34m'Glass'\u001b[0m\u001b[0;34m]\u001b[0m \u001b[0;34m*\u001b[0m \u001b[0mdata\u001b[0m\u001b[0;34m[\u001b[0m\u001b[0;34m'Φtot'\u001b[0m\u001b[0;34m]\u001b[0m\u001b[0;34m\u001b[0m\u001b[0;34m\u001b[0m\u001b[0m\n\u001b[1;32m     43\u001b[0m \u001b[0mQa\u001b[0m \u001b[0;34m=\u001b[0m \u001b[0mdata\u001b[0m\u001b[0;34m[\u001b[0m\u001b[0;34m'Qa'\u001b[0m\u001b[0;34m]\u001b[0m\u001b[0;34m\u001b[0m\u001b[0;34m\u001b[0m\u001b[0m\n",
      "\u001b[0;31mNameError\u001b[0m: name 'α_wSW' is not defined"
     ]
    }
   ],
   "source": [
    "start_date = '01-03 12:00:00'\n",
    "end_date = '02-05 18:00:00'\n",
    "\n",
    "start_date = '2000-' + start_date\n",
    "end_date = '2000-' + end_date\n",
    "print(f'{start_date} \\tstart date')\n",
    "print(f'{end_date} \\tend date')\n",
    "\n",
    "filename = './FRA_Lyon.074810_IWEC.epw'\n",
    "[data, meta] = dm4bem.read_epw(filename, coerce_year=None)\n",
    "weather = data[[\"temp_air\", \"dir_n_rad\", \"dif_h_rad\"]]\n",
    "del data\n",
    "\n",
    "weather.index = weather.index.map(lambda t: t.replace(year=2000))\n",
    "weather = weather.loc[start_date:end_date]\n",
    "\n",
    "surface_orientation = {'slope': 90,\n",
    "                       'azimuth': 0,\n",
    "                       'latitude': 45}\n",
    "albedo = 0.2\n",
    "rad_surf = dm4bem.sol_rad_tilt_surf(\n",
    "    weather, surface_orientation, albedo)\n",
    "# pd.DataFrame(rad_surf)\n",
    "\n",
    "rad_surf['Φtot'] = rad_surf.sum(axis=1)\n",
    "\n",
    "# resample weather data\n",
    "data = pd.concat([weather['temp_air'], rad_surf['Φtot']], axis=1)\n",
    "data = data.resample(str(dt) + 'S').interpolate(method='linear')\n",
    "data = data.rename(columns={'temp_air': 'To'})\n",
    "# pd.DataFrame(data)\n",
    "\n",
    "data['Ti'] = 20 * np.ones(data.shape[0])\n",
    "data['Qa'] = 0 * np.ones(data.shape[0])\n",
    "# pd.DataFrame(data)\n",
    "\n",
    "\n",
    "# input vector\n",
    "To = data['To']\n",
    "Ti = data['Ti']\n",
    "Φo = α_wSW * wall['Surface']['Layer_out'] * data['Φtot']\n",
    "Φi = τ_gSW * α_wSW * wall['Surface']['Glass'] * data['Φtot']\n",
    "Qa = data['Qa']\n",
    "Φa = α_gSW * wall['Surface']['Glass'] * data['Φtot']\n",
    "\n",
    "u = pd.concat([To, To, To, Ti, Φo, Φi, Qa, Φa], axis=1)\n",
    "u.columns.values[[4, 5, 7]] = ['Φo', 'Φi', 'Φa']\n",
    "# pd.DataFrame(u)\n",
    "\n",
    "\n",
    "θ_exp = 20 * np.ones([As.shape[0], u.shape[0]])\n",
    "\n",
    "\n",
    "\n",
    "for k in range(u.shape[0] - 1):\n",
    "    θ_exp[:, k + 1] = (I + dt * As) @ θ_exp[:, k]\\\n",
    "        + dt * Bs @ u.iloc[k, :]\n",
    "    \n",
    "    \n",
    "    \n",
    "y_exp = Cs @ θ_exp + Ds @ u.to_numpy().T\n",
    "q_HVAC = Kp * (data['Ti'] - y_exp[0, :])\n",
    "\n",
    "\n",
    "data['θi_exp'] = y_exp.T\n",
    "data['q_HVAC'] = q_HVAC.T\n",
    "\n",
    "\n",
    "fig, axs = plt.subplots(2, 1)\n",
    "\n",
    "data[['To', 'θi_exp']].plot(ax=axs[0],\n",
    "                            xticks=[],\n",
    "                            ylabel='Temperature, $θ$ / °C')\n",
    "axs[0].legend(['$θ_{outdoor}$', '$θ_{indoor}$'],\n",
    "              loc='upper right')\n",
    "\n",
    "data[['Φtot', 'q_HVAC']].plot(ax=axs[1],\n",
    "                              ylabel='Heat rate, $q$ / W')\n",
    "axs[1].set(xlabel='Time')\n",
    "axs[1].legend(['$Φ_{total}$', '$q_{HVAC}$'],\n",
    "             loc='upper right')\n",
    "plt.show()\n",
    "\n",
    "\n",
    "t = dt * np.arange(data.shape[0])   # time vector\n",
    "\n",
    "fig, axs = plt.subplots(2, 1)\n",
    "# plot outdoor and indoor temperature\n",
    "axs[0].plot(t / 3600 / 24, data['To'], label='$θ_{outdoor}$')\n",
    "axs[0].plot(t / 3600 / 24, y_exp[0, :], label='$θ_{indoor}$')\n",
    "axs[0].set(ylabel='Temperatures, $θ$ / °C',\n",
    "           title='Simulation for weather')\n",
    "axs[0].legend(loc='upper right')\n",
    "\n",
    "# plot total solar radiation and HVAC heat flow\n",
    "axs[1].plot(t / 3600 / 24, data['Φtot'], label='$Φ_{total}$')\n",
    "axs[1].plot(t / 3600 / 24, q_HVAC, label='$q_{HVAC}$')\n",
    "axs[1].set(xlabel='Time, $t$ / day',\n",
    "           ylabel='Heat flows, $q$ / W')\n",
    "axs[1].legend(loc='upper right')\n",
    "\n",
    "fig.tight_layout()"
   ]
  },
  {
   "cell_type": "code",
   "execution_count": null,
   "metadata": {},
   "outputs": [],
   "source": []
  }
 ],
 "metadata": {
  "kernelspec": {
   "display_name": "Python 3",
   "language": "python",
   "name": "python3"
  },
  "language_info": {
   "codemirror_mode": {
    "name": "ipython",
    "version": 3
   },
   "file_extension": ".py",
   "mimetype": "text/x-python",
   "name": "python",
   "nbconvert_exporter": "python",
   "pygments_lexer": "ipython3",
   "version": "3.7.3"
  }
 },
 "nbformat": 4,
 "nbformat_minor": 5
}
